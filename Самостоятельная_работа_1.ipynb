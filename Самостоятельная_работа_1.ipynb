{
  "nbformat": 4,
  "nbformat_minor": 0,
  "metadata": {
    "colab": {
      "provenance": [],
      "authorship_tag": "ABX9TyN3Itch8vVU4wPS4Gw85M2P",
      "include_colab_link": true
    },
    "kernelspec": {
      "name": "python3",
      "display_name": "Python 3"
    },
    "language_info": {
      "name": "python"
    }
  },
  "cells": [
    {
      "cell_type": "markdown",
      "metadata": {
        "id": "view-in-github",
        "colab_type": "text"
      },
      "source": [
        "<a href=\"https://colab.research.google.com/github/Honaht01/PDA_sol/blob/main/%D0%A1%D0%B0%D0%BC%D0%BE%D1%81%D1%82%D0%BE%D1%8F%D1%82%D0%B5%D0%BB%D1%8C%D0%BD%D0%B0%D1%8F_%D1%80%D0%B0%D0%B1%D0%BE%D1%82%D0%B0_1.ipynb\" target=\"_parent\"><img src=\"https://colab.research.google.com/assets/colab-badge.svg\" alt=\"Open In Colab\"/></a>"
      ]
    },
    {
      "cell_type": "markdown",
      "source": [
        "Выполнил: Григорьев П.К."
      ],
      "metadata": {
        "id": "vadzT2lgIRvP"
      }
    },
    {
      "cell_type": "markdown",
      "source": [
        "[1] Написать цикл для выведения на экран каждой буквы своего ФИО"
      ],
      "metadata": {
        "id": "oPy0_oDLIL63"
      }
    },
    {
      "cell_type": "code",
      "source": [
        "for i in 'Григорьев Павел Кириллович':\n",
        "  print(i)"
      ],
      "metadata": {
        "colab": {
          "base_uri": "https://localhost:8080/"
        },
        "id": "eAgKblVjIP0X",
        "outputId": "1259a5ab-16a3-4ecf-febf-3c057ac0f231"
      },
      "execution_count": 12,
      "outputs": [
        {
          "output_type": "stream",
          "name": "stdout",
          "text": [
            "Г\n",
            "р\n",
            "и\n",
            "г\n",
            "о\n",
            "р\n",
            "ь\n",
            "е\n",
            "в\n",
            " \n",
            "П\n",
            "а\n",
            "в\n",
            "е\n",
            "л\n",
            " \n",
            "К\n",
            "и\n",
            "р\n",
            "и\n",
            "л\n",
            "л\n",
            "о\n",
            "в\n",
            "и\n",
            "ч\n"
          ]
        }
      ]
    },
    {
      "cell_type": "markdown",
      "source": [
        "[2]  Написать функцию для перевода рубля в йену c округлением до 2х знаков после запятой.\n"
      ],
      "metadata": {
        "id": "wVexdVP5JLIE"
      }
    },
    {
      "cell_type": "code",
      "source": [
        "def rub_to_yen(SumRub):\n",
        "  Rate=1.55\n",
        "  SumYen= SumRub * Rate\n",
        "  return round(SumYen,2)\n",
        "\n",
        "rub_to_yen(133.123151515)"
      ],
      "metadata": {
        "colab": {
          "base_uri": "https://localhost:8080/"
        },
        "id": "qeUTI1abIcsL",
        "outputId": "e82600d0-8c63-49ad-d502-394aeafbd6fc"
      },
      "execution_count": 48,
      "outputs": [
        {
          "output_type": "execute_result",
          "data": {
            "text/plain": [
              "206.34"
            ]
          },
          "metadata": {},
          "execution_count": 48
        }
      ]
    }
  ]
}